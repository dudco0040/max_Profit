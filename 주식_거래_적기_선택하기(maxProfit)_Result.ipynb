{
  "nbformat": 4,
  "nbformat_minor": 0,
  "metadata": {
    "colab": {
      "provenance": [],
      "authorship_tag": "ABX9TyNJc3w6JFU4j8jq3oq75OWI",
      "include_colab_link": true
    },
    "kernelspec": {
      "name": "python3",
      "display_name": "Python 3"
    },
    "language_info": {
      "name": "python"
    }
  },
  "cells": [
    {
      "cell_type": "markdown",
      "metadata": {
        "id": "view-in-github",
        "colab_type": "text"
      },
      "source": [
        "<a href=\"https://colab.research.google.com/github/dudco0040/max_Profit/blob/main/%EC%A3%BC%EC%8B%9D_%EA%B1%B0%EB%9E%98_%EC%A0%81%EA%B8%B0_%EC%84%A0%ED%83%9D%ED%95%98%EA%B8%B0(maxProfit)_Result.ipynb\" target=\"_parent\"><img src=\"https://colab.research.google.com/assets/colab-badge.svg\" alt=\"Open In Colab\"/></a>"
      ]
    },
    {
      "cell_type": "markdown",
      "source": [
        "# **주식 거래 적기 선택하기(maxProfit)**  \n",
        "\n",
        "### **Q: 최대 이익이 발생하는 시기 알아보기**\n",
        "\n",
        "### **A:** "
      ],
      "metadata": {
        "id": "APmBcCnGKpLc"
      }
    },
    {
      "cell_type": "code",
      "execution_count": 14,
      "metadata": {
        "id": "FA18vUn4Knd3"
      },
      "outputs": [],
      "source": [
        "from typing import List\n",
        "\n",
        "class Solution:\n",
        "  def maxProfit(self,prices:List[int])->int:\n",
        "\t\n",
        "    # prices 길이가 1인 경우\n",
        "    if len(prices) < 2:\n",
        "        return 0\n",
        "\t \n",
        "    min_price = prices[0]\n",
        "    maxProfit = 0    # maxProfit: 최대 이익이 발생할 경우 저장, 0 보다 작은 값일 경우 손해 -> 큰 값이 없으면 기본값이 0이 출력되도록\n",
        "    no = 0     #time check\n",
        "    update_time_min_temp = 1  #업데이트가 일어나지 않은 경우, 첫번째 값이 최소값\n",
        "    update_time_min = 1\n",
        "\n",
        "    for a in prices: \n",
        "        no+= 1\n",
        "        #print(\"날짜\",no)\n",
        "        c = a - min_price \n",
        "        if maxProfit < c:\n",
        "            maxProfit = c\n",
        "            update_time_max_profit = no  #매도 시점 \n",
        "            update_time_min = update_time_min_temp  #매수 시점\n",
        " \n",
        "            if maxProfit == 10000:  #최대 수익 발생으로 더 이상 값을 비교할 필요가 없음\n",
        "                break\n",
        "\n",
        "        if min_price > a:\n",
        "            min_price = a\n",
        "            update_time_min_temp = no\n",
        "\n",
        "        #print(a,\"maxProfit(output)=\",maxProfit,\"min_price=\",min_price)\n",
        "\n",
        "    #이익이 발생하지 않은 경우\n",
        "    if maxProfit == 0:   \n",
        "        print(\"최대 이익이 발생하지 않았습니다.\")\n",
        "    #최대 이익이 발생한 경우\n",
        "    else:\n",
        "        i= prices[update_time_min-1]\n",
        "        j= prices[update_time_max_profit-1]\n",
        "        print(update_time_min,\"(price=\",i,\")에서 매수하여\",update_time_max_profit,\"(price=\",j,\")에 매도하였을 때, \",maxProfit,\"만큼 이익을 얻습니다. \")\n",
        "        \n",
        "    return maxProfit\n"
      ]
    },
    {
      "cell_type": "code",
      "source": [
        "# Test \n",
        "from random import randint\n",
        "\n",
        "# 10^5 개의 정수 생성\n",
        "List = []\n",
        "for _ in range(100000):\n",
        "    List.append(randint(0, 10000)) # 0부터 10^4 사이의 랜덤한 정수\n",
        "\n",
        "len(List)\n",
        "\n",
        "sol = Solution()\n",
        "sol.maxProfit(List)"
      ],
      "metadata": {
        "colab": {
          "base_uri": "https://localhost:8080/"
        },
        "id": "aWkF6JZIKoUL",
        "outputId": "8106f035-c4bc-4666-bac2-e24ffa066d91"
      },
      "execution_count": 15,
      "outputs": [
        {
          "output_type": "stream",
          "name": "stdout",
          "text": [
            "3759 (price= 0 )에서 매수하여 32952 (price= 10000 )에 매도하였을 때,  10000 만큼 이익을 얻습니다. \n"
          ]
        },
        {
          "output_type": "execute_result",
          "data": {
            "text/plain": [
              "10000"
            ]
          },
          "metadata": {},
          "execution_count": 15
        }
      ]
    },
    {
      "cell_type": "code",
      "source": [
        "print(List[32952-1])  # 매도 \n",
        "print(List[3759-1])  # 매수\n",
        "\n",
        "print(List[32952-1]-List[3759-1])  # 이익"
      ],
      "metadata": {
        "colab": {
          "base_uri": "https://localhost:8080/"
        },
        "id": "8nkuZuUei8Q_",
        "outputId": "f8867983-479d-4f5f-a8e0-60a78f99323a"
      },
      "execution_count": 16,
      "outputs": [
        {
          "output_type": "stream",
          "name": "stdout",
          "text": [
            "10000\n",
            "0\n",
            "10000\n"
          ]
        }
      ]
    }
  ]
}