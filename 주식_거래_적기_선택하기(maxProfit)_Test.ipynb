{
  "cells": [
    {
      "cell_type": "markdown",
      "metadata": {
        "id": "view-in-github",
        "colab_type": "text"
      },
      "source": [
        "<a href=\"https://colab.research.google.com/github/dudco0040/max_Profit/blob/main/%EC%A3%BC%EC%8B%9D_%EA%B1%B0%EB%9E%98_%EC%A0%81%EA%B8%B0_%EC%84%A0%ED%83%9D%ED%95%98%EA%B8%B0(maxProfit)_Test.ipynb\" target=\"_parent\"><img src=\"https://colab.research.google.com/assets/colab-badge.svg\" alt=\"Open In Colab\"/></a>"
      ]
    },
    {
      "cell_type": "markdown",
      "source": [
        "# **주식 거래 적기 선택하기(maxProfit)**"
      ],
      "metadata": {
        "id": "ThAOHMAAI4fw"
      }
    },
    {
      "cell_type": "markdown",
      "source": [
        "## **함수 생성**\n",
        "\n",
        "함수 내용은 README.md와 본 함수의 주석을 참고해주시면 감사하겠습니다. "
      ],
      "metadata": {
        "id": "nNiYKtBwJ-Vs"
      }
    },
    {
      "cell_type": "code",
      "source": [
        "def maxProfit(A):\n",
        "\t\n",
        "    # A의 길이가 1개인 경우, 수익/손해 계산 불가능 -> return 0\n",
        "    if len(A) < 2:\n",
        "        return 0\n",
        "\n",
        "    # Defualt Values\n",
        "    min_price = A[0]   # min, 배열에 첫번 째 수 부터 시작하여 값을 업데이트\n",
        "    maxProfit = 0    # maxProfit: 최대 이익이 발생할 경우 저장, 0 보다 작은 값일 경우 손해 -> 큰 값이 없으면 기본값이 0이 출력되도록\n",
        "    no=0   # time check\n",
        "    update_time_min_temp = 1  # 임시변수(temp), 업데이트가 일어나지 않은 경우, 첫번째 값이 최소인 경우이므로 기본값 1\n",
        "    update_time_min = 1\n",
        " \n",
        "    for a in A: # 리스트를 하나씩 불러옴\n",
        "        no+= 1\n",
        "        #print(\"no.\",no)\n",
        "        \n",
        "        #수익/손해 계산\n",
        "        c = a - min_price\n",
        "        if maxProfit < c: \n",
        "            maxProfit = c\n",
        "            update_time_max_profit = no  #매도 시점 \n",
        "            update_time_min = update_time_min_temp  #매수 시점\n",
        "            #print(\"{}시점에 값이 업데이트 되었습니다.\".format(no))  #최대 이익 값이 업데이트 될 경우, 출력\n",
        "\n",
        "            if maxProfit == 10000:  #발생할 수 있는 최대 수익으로 더 이상 값을 비교하지 않고 for문 종료\n",
        "                break\n",
        "\n",
        "        if min_price > a:\n",
        "            min_price = a\n",
        "            update_time_min_temp = no\n",
        "            #print(\"min update:\",update_time_min_temp,\"  min_values:\",min_price)\n",
        " \n",
        "\n",
        "        #print(a,\"maxProfit(output)=\",maxProfit,\"min_price=\",min_price)\n",
        "\n",
        "    #이익이 발생하지 않은 경우\n",
        "    if maxProfit == 0:   \n",
        "        print(\"최대 이익이 발생하지 않았습니다.\")\n",
        "    #이익이 발생한 경우\n",
        "    else:\n",
        "        i= A[update_time_min-1]\n",
        "        j= A[update_time_max_profit-1]\n",
        "        print(update_time_min,\"(price=\",i,\")에서 매수하여\",update_time_max_profit,\"(price=\",j,\")에 매도하였을 때, \",maxProfit,\"만큼 이익을 얻습니다. \")\n",
        "    \n",
        "    return maxProfit"
      ],
      "metadata": {
        "id": "h5yo5kxlj15x"
      },
      "execution_count": 39,
      "outputs": []
    },
    {
      "cell_type": "markdown",
      "source": [
        "# **Test**\n",
        "**: 여러 가지 경우에 대해 함수가 잘 동작하는지 확인**"
      ],
      "metadata": {
        "id": "IEMtMBzxzQEG"
      }
    },
    {
      "cell_type": "code",
      "source": [
        "a=[7,1,5,3,6,4]\n",
        "maxProfit(a)"
      ],
      "metadata": {
        "colab": {
          "base_uri": "https://localhost:8080/"
        },
        "id": "ZZt9_VaAHCbl",
        "outputId": "16fd7d46-d4e6-45f0-82be-e567f3d5bc8d"
      },
      "execution_count": 40,
      "outputs": [
        {
          "output_type": "stream",
          "name": "stdout",
          "text": [
            "2 (price= 1 )에서 매수하여 5 (price= 6 )에 매도하였을 때,  5 만큼 이익을 얻습니다. \n"
          ]
        },
        {
          "output_type": "execute_result",
          "data": {
            "text/plain": [
              "5"
            ]
          },
          "metadata": {},
          "execution_count": 40
        }
      ]
    },
    {
      "cell_type": "code",
      "source": [
        "a=[2,10,1,8] #최소 매수가가 아닐 때, 최대 이익이 발생한 경우\n",
        "maxProfit(a)"
      ],
      "metadata": {
        "colab": {
          "base_uri": "https://localhost:8080/"
        },
        "id": "DXkNQ7C_j17o",
        "outputId": "e6d05426-6619-4dea-965b-f2c764773388"
      },
      "execution_count": 41,
      "outputs": [
        {
          "output_type": "stream",
          "name": "stdout",
          "text": [
            "1 (price= 2 )에서 매수하여 2 (price= 10 )에 매도하였을 때,  8 만큼 이익을 얻습니다. \n"
          ]
        },
        {
          "output_type": "execute_result",
          "data": {
            "text/plain": [
              "8"
            ]
          },
          "metadata": {},
          "execution_count": 41
        }
      ]
    },
    {
      "cell_type": "code",
      "source": [
        "a=[2,2,1,1,1] #이익이 발생하지 않는 경우\n",
        "maxProfit(a)"
      ],
      "metadata": {
        "colab": {
          "base_uri": "https://localhost:8080/"
        },
        "id": "hb7iSAuOj1_D",
        "outputId": "7481f0bd-50b6-4610-9b8c-67752a575672"
      },
      "execution_count": 42,
      "outputs": [
        {
          "output_type": "stream",
          "name": "stdout",
          "text": [
            "최대 이익이 발생하지 않았습니다.\n"
          ]
        },
        {
          "output_type": "execute_result",
          "data": {
            "text/plain": [
              "0"
            ]
          },
          "metadata": {},
          "execution_count": 42
        }
      ]
    },
    {
      "cell_type": "markdown",
      "source": [
        "### **최대 length로 시간 측정해보기**  \n",
        ": 시간 성능을 측정  \n",
        "\n",
        "* len(prices) -> [1, 10^5]  \n",
        "* prices[i] -> [0, 10^4]"
      ],
      "metadata": {
        "id": "T2JbIx6iI75M"
      }
    },
    {
      "cell_type": "code",
      "source": [
        "from random import randint\n",
        "\n",
        "# 배열에 10^5 개의 정수 생성\n",
        "array = []\n",
        "for _ in range(100000):\n",
        "    array.append(randint(0, 10000)) # 0부터 10^4 사이의 랜덤한 정수\n",
        "\n",
        "len(array)"
      ],
      "metadata": {
        "colab": {
          "base_uri": "https://localhost:8080/"
        },
        "id": "zK8cVztzDe9o",
        "outputId": "3c3f87bd-1039-4511-b09a-bf6ae9849e80"
      },
      "execution_count": 43,
      "outputs": [
        {
          "output_type": "execute_result",
          "data": {
            "text/plain": [
              "100000"
            ]
          },
          "metadata": {},
          "execution_count": 43
        }
      ]
    },
    {
      "cell_type": "code",
      "source": [
        "import time\n",
        "# 시간 성능 측정\n",
        "start_time = time.time()\n",
        "\n",
        "# 실행 \n",
        "maxProfit(array)\n",
        "\n",
        "end_time = time.time() # 측정 종료\n",
        "print(\"성능 측정:\", end_time - start_time) # 수행 시간 출력"
      ],
      "metadata": {
        "colab": {
          "base_uri": "https://localhost:8080/"
        },
        "id": "kEX0gZRzI82I",
        "outputId": "cd88d549-b271-45e1-e28b-ee4707a46745"
      },
      "execution_count": 44,
      "outputs": [
        {
          "output_type": "stream",
          "name": "stdout",
          "text": [
            "6518 (price= 0 )에서 매수하여 14853 (price= 10000 )에 매도하였을 때,  10000 만큼 이익을 얻습니다. \n",
            "성능 측정: 0.012286186218261719\n"
          ]
        }
      ]
    },
    {
      "cell_type": "code",
      "source": [
        "# 확인\n",
        "print(array[6518-1])\n",
        "print(array[14853-1])\n",
        "print(array[14853-1]-array[6518-1])"
      ],
      "metadata": {
        "colab": {
          "base_uri": "https://localhost:8080/"
        },
        "id": "LE9thW_6SCxo",
        "outputId": "e03d2ced-0450-49cf-e1ac-6d8dfc638146"
      },
      "execution_count": 45,
      "outputs": [
        {
          "output_type": "stream",
          "name": "stdout",
          "text": [
            "0\n",
            "10000\n",
            "10000\n"
          ]
        }
      ]
    },
    {
      "cell_type": "markdown",
      "source": [
        "## ***최종 답 작성 및 실행***"
      ],
      "metadata": {
        "id": "gbWc2-otzmUd"
      }
    },
    {
      "cell_type": "code",
      "source": [
        "from typing import List\n",
        "\n",
        "class Solution:\n",
        "  def maxProfit(self,prices:List[int])->int:\n",
        "\t\n",
        "    # prices가 0또는 1의 값을 가지는 경우\n",
        "    if len(prices) < 2:\n",
        "        return 0\n",
        "\t \n",
        "    min_price = prices[0]   # 배열에 첫번 째 수 \n",
        "    maxProfit = 0    # 최대 이익이 발생할 경우 저장 - 0 보다 작은 값일 경우 손해 -> 큰 값이 없으면 기본값이 0이 출력되도록\n",
        "    no=0\n",
        "    update_time_min_temp = 1  # 업데이트가 일어나지 않은 경우, 첫번째 값이 최소인 경우\n",
        "    update_time_min = 1\n",
        "    for a in prices: # 리스트를 하나씩 불러옴\n",
        "        no+= 1\n",
        "        #print(\"날짜\",no)\n",
        "        c = a - min_price\n",
        "        if maxProfit < c:  #더 많은 이익이 발생할 결우, maxProfit 업데이트\n",
        "            maxProfit = c\n",
        "            update_time_max_profit = no  #매도 시점 \n",
        "            update_time_min = update_time_min_temp  #매수 시점\n",
        "            #print(\"{}시점에 값이 업데이트 되었습니다.\".format(no))  #최대 이익 prices[no], 매도 시점 no\n",
        "\n",
        "            if maxProfit == 10000:  #최대 수익 발생으로 더 이상 값을 비교할 필요가 없음\n",
        "                break\n",
        "\n",
        "        if min_price > a:\n",
        "            min_price = a\n",
        "            update_time_min_temp = no\n",
        "            #print(\"min update:\",update_time_min_temp,\"  min_values:\",min_price)\n",
        "\n",
        " \n",
        "        #print(a,\"maxProfit(output)=\",maxProfit,\"min_price=\",min_price)\n",
        "\n",
        "    #이익이 발생하지 않은 경우\n",
        "    if maxProfit == 0:   \n",
        "        print(\"최대 이익이 발생하지 않았습니다.\")\n",
        "    else:\n",
        "        i= prices[update_time_min-1]\n",
        "        j= prices[update_time_max_profit-1]\n",
        "        print(update_time_min,\"(price=\",i,\")에서 매수하여\",update_time_max_profit,\"(price=\",j,\")에 매도하였을 때, \",maxProfit,\"만큼 이익을 얻습니다. \")\n",
        "\n",
        "    return maxProfit\n"
      ],
      "metadata": {
        "id": "lMXvFO3xG4_V"
      },
      "execution_count": 46,
      "outputs": []
    },
    {
      "cell_type": "code",
      "source": [
        "a\n",
        "sol = Solution()\n",
        "sol.maxProfit(array)"
      ],
      "metadata": {
        "colab": {
          "base_uri": "https://localhost:8080/"
        },
        "id": "ERKCic92xa_y",
        "outputId": "2c7f358c-7eff-4b3c-8715-01af9c4ff149"
      },
      "execution_count": 47,
      "outputs": [
        {
          "output_type": "stream",
          "name": "stdout",
          "text": [
            "6518 (price= 0 )에서 매수하여 14853 (price= 10000 )에 매도하였을 때,  10000 만큼 이익을 얻습니다. \n"
          ]
        },
        {
          "output_type": "execute_result",
          "data": {
            "text/plain": [
              "10000"
            ]
          },
          "metadata": {},
          "execution_count": 47
        }
      ]
    }
  ],
  "metadata": {
    "colab": {
      "provenance": [],
      "include_colab_link": true
    },
    "kernelspec": {
      "display_name": "Python 3",
      "name": "python3"
    }
  },
  "nbformat": 4,
  "nbformat_minor": 0
}